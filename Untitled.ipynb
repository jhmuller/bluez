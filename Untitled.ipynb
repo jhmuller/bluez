{
 "cells": [
  {
   "cell_type": "code",
   "execution_count": 5,
   "metadata": {},
   "outputs": [
    {
     "name": "stdout",
     "output_type": "stream",
     "text": [
      "No module named 'PyBluez'\n",
      "PyBluez not installed\\Trying to install it\n",
      "Requirement already satisfied: PyBluez in c:\\users\\jmull\\anaconda3\\lib\\site-packages (0.23)\n",
      "No module named 'PyBluez'\n",
      "No module named 'gattlib'\n",
      "gattlib not installed\\Trying to install it\n",
      "Collecting gattlib\n",
      "  Downloading gattlib-0.20201113.tar.gz (50 kB)\n",
      "No module named 'gattlib'\n",
      "Not able to import or install\n",
      "['PyBluez', 'gattlib']\n",
      "name 'PyBluez' is not defined\n",
      "name 'gattlib' is not defined\n"
     ]
    },
    {
     "name": "stderr",
     "output_type": "stream",
     "text": [
      "    ERROR: Command errored out with exit status 1:\n",
      "     command: 'C:\\Users\\jmull\\anaconda3\\python.exe' -c 'import sys, setuptools, tokenize; sys.argv[0] = '\"'\"'C:\\\\Users\\\\jmull\\\\AppData\\\\Local\\\\Temp\\\\pip-install-eo7myed4\\\\gattlib\\\\setup.py'\"'\"'; __file__='\"'\"'C:\\\\Users\\\\jmull\\\\AppData\\\\Local\\\\Temp\\\\pip-install-eo7myed4\\\\gattlib\\\\setup.py'\"'\"';f=getattr(tokenize, '\"'\"'open'\"'\"', open)(__file__);code=f.read().replace('\"'\"'\\r\\n'\"'\"', '\"'\"'\\n'\"'\"');f.close();exec(compile(code, __file__, '\"'\"'exec'\"'\"'))' egg_info --egg-base 'C:\\Users\\jmull\\AppData\\Local\\Temp\\pip-pip-egg-info-bk0brfel'\n",
      "         cwd: C:\\Users\\jmull\\AppData\\Local\\Temp\\pip-install-eo7myed4\\gattlib\\\n",
      "    Complete output (5 lines):\n",
      "    Traceback (most recent call last):\n",
      "      File \"<string>\", line 1, in <module>\n",
      "      File \"C:\\Users\\jmull\\AppData\\Local\\Temp\\pip-install-eo7myed4\\gattlib\\setup.py\", line 86, in <module>\n",
      "        raise OSError(\"Not supported OS\")\n",
      "    OSError: Not supported OS\n",
      "    ----------------------------------------\n",
      "ERROR: Command errored out with exit status 1: python setup.py egg_info Check the logs for full command output.\n",
      "line:64  cat:<UserWarning>  msg:trying to eval 'PyBluez'\n",
      "line:64  cat:<UserWarning>  msg:trying to eval 'gattlib'\n"
     ]
    }
   ],
   "source": [
    "# need to intall this every time on colab, not sure why but I do it\n",
    "import importlib\n",
    "import warnings\n",
    "import pdb\n",
    "import datetime\n",
    "now = datetime.datetime.now\n",
    "def warning_on_one_line(message, category, filename, lineno, file=None, line=None):\n",
    "    return 'line:%s  cat:<%s>  msg:%s\\n'% (lineno, category.__name__, message)  \n",
    "\n",
    "warnings.formatwarning = warning_on_one_line\n",
    "\n",
    "def global_imports(imports=None, verbosity=0):\n",
    "  fails = []\n",
    "  if not imports:\n",
    "    return\n",
    "  if not isinstance(imports, list):\n",
    "    msg = \"imports shoule be a list with elements like\\m\"\n",
    "    msg += \"'foo' or 'foo as bar'\"\n",
    "    warnings.warn(msg)\n",
    "    return\n",
    "  #pdb.set_trace()\n",
    "  for line in imports:\n",
    "    parts = line.split()\n",
    "    if len(parts) not in [1,3] or \\\n",
    "          (len(parts) == 3 and parts[1] != 'as'):\n",
    "      msg = \"<{0}> not a valid import line\\n\"\n",
    "      msg += \"use 'import foo' or 'import foo as bar'\"\n",
    "      warnings.warn(msg)\n",
    "      continue\n",
    "    module_name = parts[0]\n",
    "    asname = parts[0]\n",
    "    if len(parts) == 3:\n",
    "      asname = parts[2]\n",
    "    try:\n",
    "      module = importlib.import_module(module_name)\n",
    "      globals()[asname] = module\n",
    "    except Exception as e:\n",
    "      print(e)\n",
    "      print(\"{0} not installed\\Trying to install it\".format(module_name))\n",
    "      try:\n",
    "        !pip install $module_name\n",
    "        module = importlib.import_module(module_name)  \n",
    "        globals()[asname] = module        \n",
    "      except Exception as e2:\n",
    "        print(e2)\n",
    "        fails.append(module_name)\n",
    "  if fails:\n",
    "    msg = \"Not able to import or install\\n{0}\".format(fails)\n",
    "  else:\n",
    "    msg = \"Success. imported {0}\".format(imports)\n",
    "  if verbosity > 0:\n",
    "    print(msg)\n",
    "  return fails\n",
    "    \n",
    "def is_defined(varnames=None, verbosity=0):\n",
    "  if isinstance(varnames, str):\n",
    "    varnames = [varnames]\n",
    "  for v in varnames:\n",
    "    try:\n",
    "      eval(v)\n",
    "      if verbosity > 0:\n",
    "        print(\"'{0}'' is defined\")\n",
    "    except Exception as e:\n",
    "      warnings.warn(\"trying to eval '{0}'\".format(v))\n",
    "      print(e)\n",
    "\n",
    "imports = [ 'os', 'inspect', 'sys', 'pandas as pd', 'PyBluez', 'gattlib']\n",
    "global_imports(imports, verbosity=1)\n",
    "# check if the imports worked\n",
    "is_defined([x.split()[-1] for x in imports])"
   ]
  },
  {
   "cell_type": "code",
   "execution_count": 3,
   "metadata": {},
   "outputs": [
    {
     "name": "stdout",
     "output_type": "stream",
     "text": [
      "found 2 devices\n",
      "  AC:04:0B:79:F3:27 - Karen airpods\n",
      "  C8:FF:28:5A:4D:1E - MULLER-LENOVO-D\n"
     ]
    }
   ],
   "source": [
    "import bluetooth\n",
    "\n",
    "nearby_devices = bluetooth.discover_devices(lookup_names=True)\n",
    "print(\"found %d devices\" % len(nearby_devices))\n",
    "\n",
    "for addr, name in nearby_devices:\n",
    "    print(\"  %s - %s\" % (addr, name))"
   ]
  },
  {
   "cell_type": "code",
   "execution_count": 12,
   "metadata": {},
   "outputs": [
    {
     "name": "stdout",
     "output_type": "stream",
     "text": [
      "Performing inquiry...\n",
      "Found 2 devices\n",
      "   AC:04:0B:79:F3:27 - Karen airpods\n",
      "   C8:FF:28:5A:4D:1E - MULLER-LENOVO-D\n"
     ]
    }
   ],
   "source": [
    "#!/usr/bin/env python3\n",
    "\"\"\"PyBluez simple example inquiry.py\n",
    "Performs a simple device inquiry followed by a remote name request of each\n",
    "discovered device\n",
    "Author: Albert Huang <albert@csail.mit.edu>\n",
    "$Id: inquiry.py 401 2006-05-05 19:07:48Z albert $\n",
    "\"\"\"\n",
    "\n",
    "import bluetooth\n",
    "\n",
    "print(\"Performing inquiry...\")\n",
    "\n",
    "nearby_devices = bluetooth.discover_devices(duration=8, lookup_names=True,\n",
    "                                            flush_cache=True, lookup_class=False)\n",
    "\n",
    "print(\"Found {} devices\".format(len(nearby_devices)))\n",
    "\n",
    "baddr = None\n",
    "for addr, name in nearby_devices:\n",
    "    try:\n",
    "        baddr = addr\n",
    "        print(\"   {} - {}\".format(addr, name))\n",
    "    except UnicodeEncodeError:\n",
    "        print(\"   {} - {}\".format(addr, name.encode(\"utf-8\", \"replace\")))\n",
    "        "
   ]
  },
  {
   "cell_type": "code",
   "execution_count": 14,
   "metadata": {},
   "outputs": [
    {
     "name": "stdout",
     "output_type": "stream",
     "text": [
      "C8:FF:28:5A:4D:1E\n"
     ]
    },
    {
     "ename": "OSError",
     "evalue": "A",
     "output_type": "error",
     "traceback": [
      "\u001b[1;31m---------------------------------------------------------------------------\u001b[0m",
      "\u001b[1;31mOSError\u001b[0m                                   Traceback (most recent call last)",
      "\u001b[1;32m<ipython-input-14-139f2e9d5e09>\u001b[0m in \u001b[0;36m<module>\u001b[1;34m\u001b[0m\n\u001b[0;32m     23\u001b[0m \u001b[0mprint\u001b[0m\u001b[1;33m(\u001b[0m\u001b[0mbaddr\u001b[0m\u001b[1;33m)\u001b[0m\u001b[1;33m\u001b[0m\u001b[1;33m\u001b[0m\u001b[0m\n\u001b[0;32m     24\u001b[0m \u001b[1;33m\u001b[0m\u001b[0m\n\u001b[1;32m---> 25\u001b[1;33m \u001b[0mservices\u001b[0m \u001b[1;33m=\u001b[0m \u001b[0mbluetooth\u001b[0m\u001b[1;33m.\u001b[0m\u001b[0mfind_service\u001b[0m\u001b[1;33m(\u001b[0m\u001b[0maddress\u001b[0m\u001b[1;33m=\u001b[0m\u001b[0mtarget\u001b[0m\u001b[1;33m)\u001b[0m\u001b[1;33m\u001b[0m\u001b[1;33m\u001b[0m\u001b[0m\n\u001b[0m\u001b[0;32m     26\u001b[0m \u001b[1;33m\u001b[0m\u001b[0m\n\u001b[0;32m     27\u001b[0m \u001b[1;32mif\u001b[0m \u001b[0mlen\u001b[0m\u001b[1;33m(\u001b[0m\u001b[0mservices\u001b[0m\u001b[1;33m)\u001b[0m \u001b[1;33m>\u001b[0m \u001b[1;36m0\u001b[0m\u001b[1;33m:\u001b[0m\u001b[1;33m\u001b[0m\u001b[1;33m\u001b[0m\u001b[0m\n",
      "\u001b[1;32m~\\anaconda3\\lib\\site-packages\\bluetooth\\msbt.py\u001b[0m in \u001b[0;36mfind_service\u001b[1;34m(name, uuid, address)\u001b[0m\n\u001b[0;32m    241\u001b[0m         \u001b[0muuidstr\u001b[0m \u001b[1;33m=\u001b[0m \u001b[0mto_full_uuid\u001b[0m \u001b[1;33m(\u001b[0m\u001b[0muuidstr\u001b[0m\u001b[1;33m)\u001b[0m\u001b[1;33m\u001b[0m\u001b[1;33m\u001b[0m\u001b[0m\n\u001b[0;32m    242\u001b[0m \u001b[1;33m\u001b[0m\u001b[0m\n\u001b[1;32m--> 243\u001b[1;33m         \u001b[0mdresults\u001b[0m \u001b[1;33m=\u001b[0m \u001b[0mbt\u001b[0m\u001b[1;33m.\u001b[0m\u001b[0mfind_service\u001b[0m \u001b[1;33m(\u001b[0m\u001b[0maddr\u001b[0m\u001b[1;33m,\u001b[0m \u001b[0muuidstr\u001b[0m\u001b[1;33m)\u001b[0m\u001b[1;33m\u001b[0m\u001b[1;33m\u001b[0m\u001b[0m\n\u001b[0m\u001b[0;32m    244\u001b[0m \u001b[1;33m\u001b[0m\u001b[0m\n\u001b[0;32m    245\u001b[0m         \u001b[1;32mfor\u001b[0m \u001b[0mdict\u001b[0m \u001b[1;32min\u001b[0m \u001b[0mdresults\u001b[0m\u001b[1;33m:\u001b[0m\u001b[1;33m\u001b[0m\u001b[1;33m\u001b[0m\u001b[0m\n",
      "\u001b[1;31mOSError\u001b[0m: A"
     ]
    }
   ],
   "source": [
    "#!/usr/bin/env python3\n",
    "\"\"\"PyBluez simple example sdp-browse.py\n",
    "Displays services being advertised on a specified bluetooth device.\n",
    "Author: Albert Huang <albert@csail.mit.edu>\n",
    "$Id: sdp-browse.py 393 2006-02-24 20:30:15Z albert $\n",
    "\"\"\"\n",
    "\n",
    "import sys\n",
    "\n",
    "import bluetooth\n",
    "\n",
    "if False:\n",
    "    if len(sys.argv) < 2:\n",
    "        print(\"Usage: sdp-browse.py <addr>\")\n",
    "        print(\"   addr - can be a bluetooth address, \\\"localhost\\\", or \\\"all\\\"\")\n",
    "        sys.exit(2)\n",
    "\n",
    "    target = sys.argv[1]\n",
    "    if target == \"all\":\n",
    "        target = None\n",
    "\n",
    "target = baddr\n",
    "print(baddr)\n",
    "\n",
    "services = bluetooth.find_service(address=target)\n",
    "\n",
    "if len(services) > 0:\n",
    "    print(\"Found {} services on {}.\".format(len(services), sys.argv[1]))\n",
    "else:\n",
    "    print(\"No services found.\")\n",
    "\n",
    "for svc in services:\n",
    "    print(\"\\nService Name:\", svc[\"name\"])\n",
    "    print(\"    Host:       \", svc[\"host\"])\n",
    "    print(\"    Description:\", svc[\"description\"])\n",
    "    print(\"    Provided By:\", svc[\"provider\"])\n",
    "    print(\"    Protocol:   \", svc[\"protocol\"])\n",
    "    print(\"    channel/PSM:\", svc[\"port\"])\n",
    "    print(\"    svc classes:\", svc[\"service-classes\"])\n",
    "    print(\"    profiles:   \", svc[\"profiles\"])\n",
    "    print(\"    service id: \", svc[\"service-id\"])\n"
   ]
  },
  {
   "cell_type": "code",
   "execution_count": 4,
   "metadata": {},
   "outputs": [
    {
     "ename": "ModuleNotFoundError",
     "evalue": "No module named 'gattlib'",
     "output_type": "error",
     "traceback": [
      "\u001b[1;31m---------------------------------------------------------------------------\u001b[0m",
      "\u001b[1;31mModuleNotFoundError\u001b[0m                       Traceback (most recent call last)",
      "\u001b[1;32m<ipython-input-4-ee57073cb04d>\u001b[0m in \u001b[0;36m<module>\u001b[1;34m\u001b[0m\n\u001b[0;32m      1\u001b[0m \u001b[1;31m# bluetooth low energy scan\u001b[0m\u001b[1;33m\u001b[0m\u001b[1;33m\u001b[0m\u001b[1;33m\u001b[0m\u001b[0m\n\u001b[1;32m----> 2\u001b[1;33m \u001b[1;32mfrom\u001b[0m \u001b[0mbluetooth\u001b[0m\u001b[1;33m.\u001b[0m\u001b[0mble\u001b[0m \u001b[1;32mimport\u001b[0m \u001b[0mDiscoveryService\u001b[0m\u001b[1;33m\u001b[0m\u001b[1;33m\u001b[0m\u001b[0m\n\u001b[0m\u001b[0;32m      3\u001b[0m \u001b[1;33m\u001b[0m\u001b[0m\n\u001b[0;32m      4\u001b[0m \u001b[0mservice\u001b[0m \u001b[1;33m=\u001b[0m \u001b[0mDiscoveryService\u001b[0m\u001b[1;33m(\u001b[0m\u001b[1;33m)\u001b[0m\u001b[1;33m\u001b[0m\u001b[1;33m\u001b[0m\u001b[0m\n\u001b[0;32m      5\u001b[0m \u001b[0mdevices\u001b[0m \u001b[1;33m=\u001b[0m \u001b[0mservice\u001b[0m\u001b[1;33m.\u001b[0m\u001b[0mdiscover\u001b[0m\u001b[1;33m(\u001b[0m\u001b[1;36m2\u001b[0m\u001b[1;33m)\u001b[0m\u001b[1;33m\u001b[0m\u001b[1;33m\u001b[0m\u001b[0m\n",
      "\u001b[1;32m~\\anaconda3\\lib\\site-packages\\bluetooth\\ble.py\u001b[0m in \u001b[0;36m<module>\u001b[1;34m\u001b[0m\n\u001b[1;32m----> 1\u001b[1;33m \u001b[1;32mfrom\u001b[0m \u001b[0mgattlib\u001b[0m \u001b[1;32mimport\u001b[0m \u001b[1;33m*\u001b[0m\u001b[1;33m\u001b[0m\u001b[1;33m\u001b[0m\u001b[0m\n\u001b[0m\u001b[0;32m      2\u001b[0m \u001b[1;33m\u001b[0m\u001b[0m\n",
      "\u001b[1;31mModuleNotFoundError\u001b[0m: No module named 'gattlib'"
     ]
    }
   ],
   "source": [
    "# bluetooth low energy scan\n",
    "from bluetooth.ble import DiscoveryService\n",
    "\n",
    "service = DiscoveryService()\n",
    "devices = service.discover(2)\n",
    "\n",
    "for address, name in devices.items():\n",
    "    print(\"name: {}, address: {}\".format(name, address))"
   ]
  },
  {
   "cell_type": "code",
   "execution_count": null,
   "metadata": {},
   "outputs": [],
   "source": []
  }
 ],
 "metadata": {
  "kernelspec": {
   "display_name": "general",
   "language": "python",
   "name": "general"
  },
  "language_info": {
   "codemirror_mode": {
    "name": "ipython",
    "version": 3
   },
   "file_extension": ".py",
   "mimetype": "text/x-python",
   "name": "python",
   "nbconvert_exporter": "python",
   "pygments_lexer": "ipython3",
   "version": "3.8.5"
  }
 },
 "nbformat": 4,
 "nbformat_minor": 4
}
